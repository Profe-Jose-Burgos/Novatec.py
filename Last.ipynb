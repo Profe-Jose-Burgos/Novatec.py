{
 "cells": [
  {
   "cell_type": "code",
   "execution_count": 1,
   "metadata": {},
   "outputs": [],
   "source": [
    "def limpiar_conversacion(sentence):\n",
    "    sentence_words=nltk.word_tokenize(sentence)\n",
    "    sentence_words=sentence_words=[lematizar.stem(palabras.lower()) for palabras in sentence_words] \n",
    "    return sentence_words\n",
    "\n",
    "def bow (sentence,palabras,show_details=True): \n",
    "    sentence_words=limpiar_conversacion(sentence)\n",
    "    \n",
    "    contenedor=[0]*len(palabras)\n",
    "    \n",
    "    for i in sentence_words:\n",
    "        for j,w in enumerate(palabras):\n",
    "            if w==i: \n",
    "                contenedor[j]=1\n",
    "                if show_details:\n",
    "                    print(\"encontrado: \",w)\n",
    "    return (np.array(contenedor))\n",
    "\n",
    "def predict_class(sentence,model):\n",
    "    p = bow(sentence,palabras,show_details=False) \n",
    "    res = model.predict(np.array([p]))[0] \n",
    "    \n",
    "    ERROR_THRESHOLD=0.25\n",
    "    results= [[i,r] for i,r in enumerate(res) if r>ERROR_THRESHOLD] \n",
    "    results.sort(key=lambda x: x[1], reverse=True) \n",
    "    \n",
    "    return_list = []    \n",
    "    for r in results:   \n",
    "        return_list.append({\"intent\": categorias[r[0]], \"probability\": str(r[1])})   \n",
    "    print(\"print de return list: \", return_list) \n",
    "    return return_list\n",
    "\n",
    "\n",
    "\n",
    "def get_response(ints,intents_json):\n",
    "    tag= ints[0][\"intent\"]\n",
    "    list_of_intents=intents_json[\"intenciones\"] \n",
    "    \n",
    "    for i  in list_of_intents: \n",
    "        if (i[\"etiqueta\"]==tag):\n",
    "            result= random.choice(i[\"respuestas\"]) \n",
    "            break\n",
    "    return result\n",
    "\n",
    "def chatbot_response(text): \n",
    "    ints=predict_class(text,modelo) \n",
    "    res=get_response(ints,intenciones)\n",
    "    return res\n"
   ]
  }
 ],
 "metadata": {
  "kernelspec": {
   "display_name": "base",
   "language": "python",
   "name": "python3"
  },
  "language_info": {
   "codemirror_mode": {
    "name": "ipython",
    "version": 3
   },
   "file_extension": ".py",
   "mimetype": "text/x-python",
   "name": "python",
   "nbconvert_exporter": "python",
   "pygments_lexer": "ipython3",
   "version": "3.9.13"
  },
  "orig_nbformat": 4,
  "vscode": {
   "interpreter": {
    "hash": "e626765d462361be34829ea5abdfa569fcfe73631b8a5b89910be9a1e89b1f39"
   }
  }
 },
 "nbformat": 4,
 "nbformat_minor": 2
}
